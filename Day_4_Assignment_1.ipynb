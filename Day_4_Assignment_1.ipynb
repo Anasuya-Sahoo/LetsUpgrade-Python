{
  "nbformat": 4,
  "nbformat_minor": 0,
  "metadata": {
    "colab": {
      "name": "Day-4 Assignment-1",
      "provenance": [],
      "authorship_tag": "ABX9TyMpNrWIYCQbBgOUGJdHF/Un",
      "include_colab_link": true
    },
    "kernelspec": {
      "name": "python3",
      "display_name": "Python 3"
    }
  },
  "cells": [
    {
      "cell_type": "markdown",
      "metadata": {
        "id": "view-in-github",
        "colab_type": "text"
      },
      "source": [
        "<a href=\"https://colab.research.google.com/github/Anasuya-Sahoo/LetsUpgrade-Python/blob/master/Day_4_Assignment_1.ipynb\" target=\"_parent\"><img src=\"https://colab.research.google.com/assets/colab-badge.svg\" alt=\"Open In Colab\"/></a>"
      ]
    },
    {
      "cell_type": "code",
      "metadata": {
        "id": "15gkTWpHQtaH",
        "colab_type": "code",
        "colab": {}
      },
      "source": [
        "for num in range (1042000,702648465+1):\n",
        "  sum = 0\n",
        "  temp = num\n",
        "  while temp > 0:\n",
        "    digit = temp % 10\n",
        "    sum += digit ** 3\n",
        "    temp //= 10\n",
        "  if num == sum:\n",
        "    print(\"The first Armstrong number is\",num)\n",
        "    break"
      ],
      "execution_count": 3,
      "outputs": []
    }
  ]
}