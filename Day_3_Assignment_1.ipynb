{
  "nbformat": 4,
  "nbformat_minor": 0,
  "metadata": {
    "colab": {
      "name": "Day-3 Assignment-1",
      "provenance": [],
      "authorship_tag": "ABX9TyPol7j9Cjc1eUt30ZN8E/cQ",
      "include_colab_link": true
    },
    "kernelspec": {
      "name": "python3",
      "display_name": "Python 3"
    }
  },
  "cells": [
    {
      "cell_type": "markdown",
      "metadata": {
        "id": "view-in-github",
        "colab_type": "text"
      },
      "source": [
        "<a href=\"https://colab.research.google.com/github/Anasuya-Sahoo/LetsUpgrade-Python/blob/master/Day_3_Assignment_1.ipynb\" target=\"_parent\"><img src=\"https://colab.research.google.com/assets/colab-badge.svg\" alt=\"Open In Colab\"/></a>"
      ]
    },
    {
      "cell_type": "code",
      "metadata": {
        "id": "I9wNfVXaDrda",
        "colab_type": "code",
        "colab": {
          "base_uri": "https://localhost:8080/",
          "height": 50
        },
        "outputId": "1c2898b1-0e39-4cf2-b833-eec7ea5e8984"
      },
      "source": [
        "x=int(input(\"Input - \"))\n",
        "if x<=1000:\n",
        "  print(\"Safe to land\")\n",
        "elif x>1000 and x<5000:\n",
        "  print(\"Bring down to 1000ft\")\n",
        "else:\n",
        "  print(\"Turn Around\")\n",
        " "
      ],
      "execution_count": 4,
      "outputs": [
        {
          "output_type": "stream",
          "text": [
            "Input - 4500\n",
            "Bring down to 1000ft\n"
          ],
          "name": "stdout"
        }
      ]
    }
  ]
}