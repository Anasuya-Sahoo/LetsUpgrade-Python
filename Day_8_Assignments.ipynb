{
  "nbformat": 4,
  "nbformat_minor": 0,
  "metadata": {
    "colab": {
      "name": "Day-8 Assignments",
      "provenance": [],
      "authorship_tag": "ABX9TyMNdfcgVa0GA24XFamNoKmW",
      "include_colab_link": true
    },
    "kernelspec": {
      "name": "python3",
      "display_name": "Python 3"
    }
  },
  "cells": [
    {
      "cell_type": "markdown",
      "metadata": {
        "id": "view-in-github",
        "colab_type": "text"
      },
      "source": [
        "<a href=\"https://colab.research.google.com/github/Anasuya-Sahoo/LetsUpgrade-Python/blob/master/Day_8_Assignments.ipynb\" target=\"_parent\"><img src=\"https://colab.research.google.com/assets/colab-badge.svg\" alt=\"Open In Colab\"/></a>"
      ]
    },
    {
      "cell_type": "markdown",
      "metadata": {
        "id": "Lf0qK2jRsqJM",
        "colab_type": "text"
      },
      "source": [
        "**Assignment-1**"
      ]
    },
    {
      "cell_type": "code",
      "metadata": {
        "id": "1HCGJfIasxXU",
        "colab_type": "code",
        "colab": {
          "base_uri": "https://localhost:8080/",
          "height": 34
        },
        "outputId": "449d66b1-814c-4f82-c018-6540b8d0af00"
      },
      "source": [
        "import sys\n",
        "file=open(\"text1.txt\",\"w\")\n",
        "file.write(\"This file contains binary data\")\n",
        "file.close()\n",
        "file=open(\"text1.txt\",\"r\")\n",
        "try:\n",
        "  file.write(\"Hello Every one!! Good Morning\")\n",
        "except:\n",
        "  print(\"Oops!!!\",sys.exc_info()[0],\" occured\")\n",
        "file.close()"
      ],
      "execution_count": 4,
      "outputs": [
        {
          "output_type": "stream",
          "text": [
            "Oops!!! <class 'io.UnsupportedOperation'>  occured\n"
          ],
          "name": "stdout"
        }
      ]
    },
    {
      "cell_type": "markdown",
      "metadata": {
        "id": "d4eAQLAKsyIQ",
        "colab_type": "text"
      },
      "source": [
        "**Assignment-2**"
      ]
    },
    {
      "cell_type": "code",
      "metadata": {
        "id": "rALY-2EGTKfH",
        "colab_type": "code",
        "colab": {}
      },
      "source": [
        "def getInput(take_arg_input):\n",
        "  \n",
        "  def wrap_function():\n",
        "    a=int(input(\"Enter a number:\"))\n",
        "\n",
        "    take_arg_input(a)\n",
        "  return wrap_function\n"
      ],
      "execution_count": 5,
      "outputs": []
    },
    {
      "cell_type": "code",
      "metadata": {
        "id": "Zh901ubQxk1U",
        "colab_type": "code",
        "colab": {}
      },
      "source": [
        "@getInput\n",
        "def factorial(num):\n",
        "  a=num\n",
        "  fact=1\n",
        "  while(num>0):\n",
        "    fact*=num\n",
        "    num-=1\n",
        "  print(\"factorial of {} is {}\".format(a,fact))  "
      ],
      "execution_count": 7,
      "outputs": []
    },
    {
      "cell_type": "code",
      "metadata": {
        "id": "Q2VFsZxAyeMI",
        "colab_type": "code",
        "colab": {
          "base_uri": "https://localhost:8080/",
          "height": 50
        },
        "outputId": "d429042f-4b3c-47f5-8f50-a0c5ae538184"
      },
      "source": [
        "factorial()"
      ],
      "execution_count": 9,
      "outputs": [
        {
          "output_type": "stream",
          "text": [
            "Enter a number:4\n",
            "factorial of 4 is 24\n"
          ],
          "name": "stdout"
        }
      ]
    }
  ]
}