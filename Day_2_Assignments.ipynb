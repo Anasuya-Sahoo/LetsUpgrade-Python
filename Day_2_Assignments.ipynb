{
  "nbformat": 4,
  "nbformat_minor": 0,
  "metadata": {
    "colab": {
      "name": "Day-2 Assignments",
      "provenance": [],
      "authorship_tag": "ABX9TyP1xRRlYm4wbPiymmur5MkI",
      "include_colab_link": true
    },
    "kernelspec": {
      "name": "python3",
      "display_name": "Python 3"
    }
  },
  "cells": [
    {
      "cell_type": "markdown",
      "metadata": {
        "id": "view-in-github",
        "colab_type": "text"
      },
      "source": [
        "<a href=\"https://colab.research.google.com/github/Anasuya-Sahoo/LetsUpgrade-Python/blob/master/Day_2_Assignments.ipynb\" target=\"_parent\"><img src=\"https://colab.research.google.com/assets/colab-badge.svg\" alt=\"Open In Colab\"/></a>"
      ]
    },
    {
      "cell_type": "markdown",
      "metadata": {
        "id": "8NQEm7UPyt7u",
        "colab_type": "text"
      },
      "source": [
        "**LIST** "
      ]
    },
    {
      "cell_type": "code",
      "metadata": {
        "id": "CtBse6-Bb1wv",
        "colab_type": "code",
        "colab": {
          "base_uri": "https://localhost:8080/",
          "height": 34
        },
        "outputId": "8a8409bf-a95e-4610-8df4-7e2601c195ba"
      },
      "source": [
        "#LIST and Its Default Methods\n",
        "lst=[\"Anasuya\",\"Sahoo\",\"teacher\",1993,891766550]\n",
        "lst"
      ],
      "execution_count": null,
      "outputs": [
        {
          "output_type": "execute_result",
          "data": {
            "text/plain": [
              "['Anasuya', 'Sahoo', 'teacher', 1993, 891766550]"
            ]
          },
          "metadata": {
            "tags": []
          },
          "execution_count": 1
        }
      ]
    },
    {
      "cell_type": "code",
      "metadata": {
        "id": "OZW6gqt9cG9H",
        "colab_type": "code",
        "colab": {
          "base_uri": "https://localhost:8080/",
          "height": 50
        },
        "outputId": "75a78772-e874-47d0-ee9d-e040db6c4f6d"
      },
      "source": [
        "print (\"First Element: \", lst[0])\n",
        "print (\"Second Element: \", lst[1])"
      ],
      "execution_count": null,
      "outputs": [
        {
          "output_type": "stream",
          "text": [
            "First Element:  Anasuya\n",
            "Second Element:  Sahoo\n"
          ],
          "name": "stdout"
        }
      ]
    },
    {
      "cell_type": "code",
      "metadata": {
        "id": "Lx2Y3qBBi-sq",
        "colab_type": "code",
        "colab": {
          "base_uri": "https://localhost:8080/",
          "height": 34
        },
        "outputId": "b0a178dc-2545-4bac-8e86-8b00750c06e6"
      },
      "source": [
        "print(\"List1=\",lst[2:])"
      ],
      "execution_count": null,
      "outputs": [
        {
          "output_type": "stream",
          "text": [
            "List1= ['teacher', 1993, 891766550]\n"
          ],
          "name": "stdout"
        }
      ]
    },
    {
      "cell_type": "code",
      "metadata": {
        "id": "gski-70yjMlL",
        "colab_type": "code",
        "colab": {
          "base_uri": "https://localhost:8080/",
          "height": 34
        },
        "outputId": "07e76337-0045-4f7f-c781-9b594c6fa0dc"
      },
      "source": [
        "print(\"List1=\",lst[-1])"
      ],
      "execution_count": null,
      "outputs": [
        {
          "output_type": "stream",
          "text": [
            "List1= 891766550\n"
          ],
          "name": "stdout"
        }
      ]
    },
    {
      "cell_type": "code",
      "metadata": {
        "id": "Br3_SP2fjVTo",
        "colab_type": "code",
        "colab": {
          "base_uri": "https://localhost:8080/",
          "height": 34
        },
        "outputId": "6ce80f1c-1d0c-4c6b-ec49-8dd7ee1acb7e"
      },
      "source": [
        "print(\"List1=\",lst[-1:])"
      ],
      "execution_count": null,
      "outputs": [
        {
          "output_type": "stream",
          "text": [
            "List1= [891766550]\n"
          ],
          "name": "stdout"
        }
      ]
    },
    {
      "cell_type": "code",
      "metadata": {
        "id": "ipj6G4HDj3WG",
        "colab_type": "code",
        "colab": {
          "base_uri": "https://localhost:8080/",
          "height": 34
        },
        "outputId": "6fe93983-0d09-4731-dfbf-6542e2f952c7"
      },
      "source": [
        "print(\"List1=\",lst[1:-1])"
      ],
      "execution_count": null,
      "outputs": [
        {
          "output_type": "stream",
          "text": [
            "List1= ['Sahoo', 'teacher', 1993]\n"
          ],
          "name": "stdout"
        }
      ]
    },
    {
      "cell_type": "code",
      "metadata": {
        "id": "A8FP0JYRkc-p",
        "colab_type": "code",
        "colab": {
          "base_uri": "https://localhost:8080/",
          "height": 34
        },
        "outputId": "3be2095a-f709-41da-f3c4-5e848fb3a18d"
      },
      "source": [
        "#len():Gives the total length of the list.\n",
        "len(lst)"
      ],
      "execution_count": null,
      "outputs": [
        {
          "output_type": "execute_result",
          "data": {
            "text/plain": [
              "5"
            ]
          },
          "metadata": {
            "tags": []
          },
          "execution_count": 8
        }
      ]
    },
    {
      "cell_type": "code",
      "metadata": {
        "id": "izfwXo-8l87V",
        "colab_type": "code",
        "colab": {
          "base_uri": "https://localhost:8080/",
          "height": 34
        },
        "outputId": "37340700-e4e5-4952-b1ff-010a05410cee"
      },
      "source": [
        "#max():Returns item from the list with max value.\n",
        "lst1=[10,109,887,60,890]\n",
        "max(lst1)"
      ],
      "execution_count": null,
      "outputs": [
        {
          "output_type": "execute_result",
          "data": {
            "text/plain": [
              "890"
            ]
          },
          "metadata": {
            "tags": []
          },
          "execution_count": 10
        }
      ]
    },
    {
      "cell_type": "code",
      "metadata": {
        "id": "Z4bPDF-lmMdl",
        "colab_type": "code",
        "colab": {
          "base_uri": "https://localhost:8080/",
          "height": 34
        },
        "outputId": "f16be2b6-0ab2-4afc-e0fe-63cca85b78f1"
      },
      "source": [
        "#min():Returns item from the list with min value.\n",
        "min(lst1)"
      ],
      "execution_count": null,
      "outputs": [
        {
          "output_type": "execute_result",
          "data": {
            "text/plain": [
              "10"
            ]
          },
          "metadata": {
            "tags": []
          },
          "execution_count": 11
        }
      ]
    },
    {
      "cell_type": "code",
      "metadata": {
        "id": "C0xaUpT7mXsq",
        "colab_type": "code",
        "colab": {
          "base_uri": "https://localhost:8080/",
          "height": 34
        },
        "outputId": "7db8d81b-6eb0-467e-97df-7422fafb145f"
      },
      "source": [
        "#list():Converts a tuple into list.\n",
        "tpl=(\"hii\",\"hello\",\"welcome\")\n",
        "list(tpl)"
      ],
      "execution_count": null,
      "outputs": [
        {
          "output_type": "execute_result",
          "data": {
            "text/plain": [
              "['hii', 'hello', 'welcome']"
            ]
          },
          "metadata": {
            "tags": []
          },
          "execution_count": 12
        }
      ]
    },
    {
      "cell_type": "code",
      "metadata": {
        "id": "unlroKpumv37",
        "colab_type": "code",
        "colab": {
          "base_uri": "https://localhost:8080/",
          "height": 34
        },
        "outputId": "5f468524-0bbe-431f-8fcd-16c71300e623"
      },
      "source": [
        "#append():Appends object obj to list.\n",
        "lst.append(\"Welcome to all\")\n",
        "lst"
      ],
      "execution_count": null,
      "outputs": [
        {
          "output_type": "execute_result",
          "data": {
            "text/plain": [
              "['Anasuya', 'Sahoo', 'teacher', 1993, 891766550, 'Welcome to all']"
            ]
          },
          "metadata": {
            "tags": []
          },
          "execution_count": 13
        }
      ]
    },
    {
      "cell_type": "code",
      "metadata": {
        "id": "pMq4gc0inEGq",
        "colab_type": "code",
        "colab": {
          "base_uri": "https://localhost:8080/",
          "height": 34
        },
        "outputId": "d8c32d5d-67a2-4ccf-de14-cbad72528674"
      },
      "source": [
        "#count():Returns count of how many times obj occurs in list\n",
        "lst2=[1,3,4,5,4,3,6,5,7,3,4,1,1]\n",
        "lst2.count(4)"
      ],
      "execution_count": null,
      "outputs": [
        {
          "output_type": "execute_result",
          "data": {
            "text/plain": [
              "3"
            ]
          },
          "metadata": {
            "tags": []
          },
          "execution_count": 14
        }
      ]
    },
    {
      "cell_type": "code",
      "metadata": {
        "id": "w8ZHyfq8nZdz",
        "colab_type": "code",
        "colab": {
          "base_uri": "https://localhost:8080/",
          "height": 319
        },
        "outputId": "11124f39-1fa4-46dc-f6d0-9d692600b315"
      },
      "source": [
        "#extend():Appends the contents of seq to list\n",
        "tpl1=(1,2,3)\n",
        "lst.extend(tpl1)\n",
        "lst"
      ],
      "execution_count": null,
      "outputs": [
        {
          "output_type": "execute_result",
          "data": {
            "text/plain": [
              "['Anasuya',\n",
              " 'Sahoo',\n",
              " 'teacher',\n",
              " 1993,\n",
              " 891766550,\n",
              " 'Welcome to all',\n",
              " 'hii',\n",
              " 'hello',\n",
              " 'welcome',\n",
              " 'hii',\n",
              " 'hello',\n",
              " 'welcome',\n",
              " 'hii',\n",
              " 'hello',\n",
              " 'welcome',\n",
              " 1,\n",
              " 2,\n",
              " 3]"
            ]
          },
          "metadata": {
            "tags": []
          },
          "execution_count": 18
        }
      ]
    },
    {
      "cell_type": "code",
      "metadata": {
        "id": "FlWc82CpwsET",
        "colab_type": "code",
        "colab": {
          "base_uri": "https://localhost:8080/",
          "height": 218
        },
        "outputId": "9ed80075-7c3e-42bd-e603-427c86d6a662"
      },
      "source": [
        "del lst[9:15]\n",
        "lst"
      ],
      "execution_count": null,
      "outputs": [
        {
          "output_type": "execute_result",
          "data": {
            "text/plain": [
              "['Anasuya',\n",
              " 'Sahoo',\n",
              " 'teacher',\n",
              " 1993,\n",
              " 891766550,\n",
              " 'Welcome to all',\n",
              " 'hii',\n",
              " 'hello',\n",
              " 'welcome',\n",
              " 1,\n",
              " 2,\n",
              " 3]"
            ]
          },
          "metadata": {
            "tags": []
          },
          "execution_count": 19
        }
      ]
    },
    {
      "cell_type": "code",
      "metadata": {
        "id": "kIMOqLnlw-A_",
        "colab_type": "code",
        "colab": {
          "base_uri": "https://localhost:8080/",
          "height": 151
        },
        "outputId": "a255c12d-a456-423c-ec51-c3c0323966ac"
      },
      "source": [
        "del lst[8:]\n",
        "lst"
      ],
      "execution_count": null,
      "outputs": [
        {
          "output_type": "execute_result",
          "data": {
            "text/plain": [
              "['Anasuya',\n",
              " 'Sahoo',\n",
              " 'teacher',\n",
              " 1993,\n",
              " 891766550,\n",
              " 'Welcome to all',\n",
              " 'hii',\n",
              " 'hello']"
            ]
          },
          "metadata": {
            "tags": []
          },
          "execution_count": 20
        }
      ]
    },
    {
      "cell_type": "code",
      "metadata": {
        "id": "J3GDFn-6xGly",
        "colab_type": "code",
        "colab": {
          "base_uri": "https://localhost:8080/",
          "height": 34
        },
        "outputId": "1072a26e-8ed9-4405-a2c6-cc546fd104a5"
      },
      "source": [
        "#index():Returns the lowest index in list that obj appears\n",
        "lst.index('teacher')\n"
      ],
      "execution_count": null,
      "outputs": [
        {
          "output_type": "execute_result",
          "data": {
            "text/plain": [
              "2"
            ]
          },
          "metadata": {
            "tags": []
          },
          "execution_count": 23
        }
      ]
    },
    {
      "cell_type": "code",
      "metadata": {
        "id": "IEH_jkyVxgqp",
        "colab_type": "code",
        "colab": {
          "base_uri": "https://localhost:8080/",
          "height": 34
        },
        "outputId": "f01a14e0-939e-428f-eaad-10c62b952b7c"
      },
      "source": [
        "lst2.index(3)"
      ],
      "execution_count": null,
      "outputs": [
        {
          "output_type": "execute_result",
          "data": {
            "text/plain": [
              "1"
            ]
          },
          "metadata": {
            "tags": []
          },
          "execution_count": 25
        }
      ]
    },
    {
      "cell_type": "code",
      "metadata": {
        "id": "3CfV6vmuxj-H",
        "colab_type": "code",
        "colab": {
          "base_uri": "https://localhost:8080/",
          "height": 168
        },
        "outputId": "08f7048a-9bae-423d-894d-fedd6af3b07b"
      },
      "source": [
        "#insert():Inserts object obj into list at offset index\n",
        "lst.insert(2,\"Good night\")\n",
        "lst"
      ],
      "execution_count": null,
      "outputs": [
        {
          "output_type": "execute_result",
          "data": {
            "text/plain": [
              "['Anasuya',\n",
              " 'Sahoo',\n",
              " 'Good night',\n",
              " 'teacher',\n",
              " 1993,\n",
              " 891766550,\n",
              " 'Welcome to all',\n",
              " 'hii',\n",
              " 'hello']"
            ]
          },
          "metadata": {
            "tags": []
          },
          "execution_count": 26
        }
      ]
    },
    {
      "cell_type": "code",
      "metadata": {
        "id": "QXuwRzXux-q8",
        "colab_type": "code",
        "colab": {
          "base_uri": "https://localhost:8080/",
          "height": 151
        },
        "outputId": "ee044bc3-2c7f-4436-ecb0-0bb4e096d62c"
      },
      "source": [
        "#pop():Removes and returns last object or obj from list\n",
        "lst.pop()\n",
        "lst"
      ],
      "execution_count": null,
      "outputs": [
        {
          "output_type": "execute_result",
          "data": {
            "text/plain": [
              "['Anasuya',\n",
              " 'Sahoo',\n",
              " 'Good night',\n",
              " 'teacher',\n",
              " 1993,\n",
              " 891766550,\n",
              " 'Welcome to all',\n",
              " 'hii']"
            ]
          },
          "metadata": {
            "tags": []
          },
          "execution_count": 27
        }
      ]
    },
    {
      "cell_type": "code",
      "metadata": {
        "id": "ZTCjD43kyILv",
        "colab_type": "code",
        "colab": {
          "base_uri": "https://localhost:8080/",
          "height": 34
        },
        "outputId": "37c377eb-0548-4b1e-d04e-90a3781b334d"
      },
      "source": [
        "#remove():Removes object obj from list\n",
        "lst.remove('Welcome to all')\n",
        "lst"
      ],
      "execution_count": null,
      "outputs": [
        {
          "output_type": "execute_result",
          "data": {
            "text/plain": [
              "['Anasuya', 'Sahoo', 'Good night', 'teacher', 1993, 891766550, 'hii']"
            ]
          },
          "metadata": {
            "tags": []
          },
          "execution_count": 29
        }
      ]
    },
    {
      "cell_type": "code",
      "metadata": {
        "id": "lQ1_7Xu6y1rX",
        "colab_type": "code",
        "colab": {}
      },
      "source": [
        "#reverse():Reverses objects of list in place\n",
        "lst.reverse()"
      ],
      "execution_count": null,
      "outputs": []
    },
    {
      "cell_type": "code",
      "metadata": {
        "id": "CwRN0D1ezAE8",
        "colab_type": "code",
        "colab": {
          "base_uri": "https://localhost:8080/",
          "height": 34
        },
        "outputId": "42d9d368-1797-4307-9fa0-48e40c2a19cd"
      },
      "source": [
        "lst"
      ],
      "execution_count": null,
      "outputs": [
        {
          "output_type": "execute_result",
          "data": {
            "text/plain": [
              "['hii', 891766550, 1993, 'teacher', 'Good night', 'Sahoo', 'Anasuya']"
            ]
          },
          "metadata": {
            "tags": []
          },
          "execution_count": 31
        }
      ]
    },
    {
      "cell_type": "code",
      "metadata": {
        "id": "-o4t6ExNzC5s",
        "colab_type": "code",
        "colab": {
          "base_uri": "https://localhost:8080/",
          "height": 34
        },
        "outputId": "be0594fd-c405-4d6f-a3a7-290cffe0c66e"
      },
      "source": [
        "#sort():Sorts objects of list, use compare func if given\n",
        "lst2.sort()\n",
        "lst2"
      ],
      "execution_count": null,
      "outputs": [
        {
          "output_type": "execute_result",
          "data": {
            "text/plain": [
              "[1, 1, 1, 3, 3, 3, 4, 4, 4, 5, 5, 6, 7]"
            ]
          },
          "metadata": {
            "tags": []
          },
          "execution_count": 33
        }
      ]
    },
    {
      "cell_type": "markdown",
      "metadata": {
        "id": "Y09WWgsDzTZm",
        "colab_type": "text"
      },
      "source": [
        "**DICTIONARY**"
      ]
    },
    {
      "cell_type": "code",
      "metadata": {
        "id": "5IY6J2iqzXV7",
        "colab_type": "code",
        "colab": {
          "base_uri": "https://localhost:8080/",
          "height": 34
        },
        "outputId": "f5224ee7-fa46-4a66-acef-06a916acb8d8"
      },
      "source": [
        "dit={\"name\":\"Anasuya\",\"age\":26, \"profession\":\"Lecture\", \"Address\":\"Cuttack\"}\n",
        "dit"
      ],
      "execution_count": null,
      "outputs": [
        {
          "output_type": "execute_result",
          "data": {
            "text/plain": [
              "{'Address': 'Cuttack', 'age': 26, 'name': 'Anasuya', 'profession': 'Lecture'}"
            ]
          },
          "metadata": {
            "tags": []
          },
          "execution_count": 35
        }
      ]
    },
    {
      "cell_type": "code",
      "metadata": {
        "id": "uF2pnMGd23SY",
        "colab_type": "code",
        "colab": {
          "base_uri": "https://localhost:8080/",
          "height": 34
        },
        "outputId": "5bae37f1-20e2-4323-dd18-d3bbc8d29360"
      },
      "source": [
        "#len():Gives the total length of the dictionary. This would be equal to the number of items in the dictionary.\n",
        "len(dit)"
      ],
      "execution_count": null,
      "outputs": [
        {
          "output_type": "execute_result",
          "data": {
            "text/plain": [
              "4"
            ]
          },
          "metadata": {
            "tags": []
          },
          "execution_count": 36
        }
      ]
    },
    {
      "cell_type": "code",
      "metadata": {
        "id": "jrg2EvoY3NQG",
        "colab_type": "code",
        "colab": {
          "base_uri": "https://localhost:8080/",
          "height": 35
        },
        "outputId": "46227c08-3e1d-43ce-a190-5b4b96d005f5"
      },
      "source": [
        "#str():Produces a printable string representation of a dictionary\n",
        "str(dit)"
      ],
      "execution_count": null,
      "outputs": [
        {
          "output_type": "execute_result",
          "data": {
            "application/vnd.google.colaboratory.intrinsic+json": {
              "type": "string"
            },
            "text/plain": [
              "\"{'name': 'Anasuya', 'age': 26, 'profession': 'Lecture', 'Address': 'Cuttack'}\""
            ]
          },
          "metadata": {
            "tags": []
          },
          "execution_count": 37
        }
      ]
    },
    {
      "cell_type": "code",
      "metadata": {
        "id": "iWTJwK9B3Xo6",
        "colab_type": "code",
        "colab": {
          "base_uri": "https://localhost:8080/",
          "height": 34
        },
        "outputId": "f85825f6-55c0-499a-f511-0dc1b9b77f8b"
      },
      "source": [
        "#type():Returns the type of the passed variable. If passed variable is dictionary, then it would return a dictionary type.\n",
        "type(dit)"
      ],
      "execution_count": null,
      "outputs": [
        {
          "output_type": "execute_result",
          "data": {
            "text/plain": [
              "dict"
            ]
          },
          "metadata": {
            "tags": []
          },
          "execution_count": 40
        }
      ]
    },
    {
      "cell_type": "code",
      "metadata": {
        "id": "DJJFOTyw3t9U",
        "colab_type": "code",
        "colab": {
          "base_uri": "https://localhost:8080/",
          "height": 34
        },
        "outputId": "cadbb283-5b9e-4510-dab8-4b370dbefa98"
      },
      "source": [
        "#copy():Returns a shallow copy of dictionary dict\n",
        "dit.copy()"
      ],
      "execution_count": null,
      "outputs": [
        {
          "output_type": "execute_result",
          "data": {
            "text/plain": [
              "{'Address': 'Cuttack', 'age': 26, 'name': 'Anasuya', 'profession': 'Lecture'}"
            ]
          },
          "metadata": {
            "tags": []
          },
          "execution_count": 41
        }
      ]
    },
    {
      "cell_type": "code",
      "metadata": {
        "id": "tOoeawYy38nc",
        "colab_type": "code",
        "colab": {
          "base_uri": "https://localhost:8080/",
          "height": 34
        },
        "outputId": "0845e9b7-eb0d-452b-ae07-473b9cc3852d"
      },
      "source": [
        "#fromkeys():Create a new dictionary with keys from seq and values set to value.\n",
        "dit.fromkeys(\"name\")"
      ],
      "execution_count": null,
      "outputs": [
        {
          "output_type": "execute_result",
          "data": {
            "text/plain": [
              "{'a': None, 'e': None, 'm': None, 'n': None}"
            ]
          },
          "metadata": {
            "tags": []
          },
          "execution_count": 45
        }
      ]
    },
    {
      "cell_type": "code",
      "metadata": {
        "id": "0_TMzBVA4i9d",
        "colab_type": "code",
        "colab": {
          "base_uri": "https://localhost:8080/",
          "height": 34
        },
        "outputId": "c1a93cce-c4d5-43be-de26-49ea998c323d"
      },
      "source": [
        "#get():For key key, returns value or default if key not in dictionary.\n",
        "dit.get(\"age\")"
      ],
      "execution_count": null,
      "outputs": [
        {
          "output_type": "execute_result",
          "data": {
            "text/plain": [
              "26"
            ]
          },
          "metadata": {
            "tags": []
          },
          "execution_count": 46
        }
      ]
    },
    {
      "cell_type": "code",
      "metadata": {
        "id": "ZGpMbGss4y0g",
        "colab_type": "code",
        "colab": {
          "base_uri": "https://localhost:8080/",
          "height": 34
        },
        "outputId": "dfe11d24-7ec4-4d7b-e851-399e10bc2756"
      },
      "source": [
        "#items():Returns a list of dict's (key, value) tuple pairs\n",
        "dit.items()"
      ],
      "execution_count": null,
      "outputs": [
        {
          "output_type": "execute_result",
          "data": {
            "text/plain": [
              "dict_items([('name', 'Anasuya'), ('age', 26), ('profession', 'Lecture'), ('Address', 'Cuttack')])"
            ]
          },
          "metadata": {
            "tags": []
          },
          "execution_count": 48
        }
      ]
    },
    {
      "cell_type": "code",
      "metadata": {
        "id": "uAmsB48d5UDx",
        "colab_type": "code",
        "colab": {
          "base_uri": "https://localhost:8080/",
          "height": 34
        },
        "outputId": "d0c9b7a4-7043-4f29-b973-cd2955dfdbe9"
      },
      "source": [
        "#keys():Returns list of dictionary dict's keys\n",
        "dit.keys()"
      ],
      "execution_count": null,
      "outputs": [
        {
          "output_type": "execute_result",
          "data": {
            "text/plain": [
              "dict_keys(['name', 'age', 'profession', 'Address'])"
            ]
          },
          "metadata": {
            "tags": []
          },
          "execution_count": 49
        }
      ]
    },
    {
      "cell_type": "code",
      "metadata": {
        "id": "VhSs_4jx5e0B",
        "colab_type": "code",
        "colab": {
          "base_uri": "https://localhost:8080/",
          "height": 35
        },
        "outputId": "edc31dbb-6a27-4a5a-be8d-f2d26c021d79"
      },
      "source": [
        "#setdefault():Similar to get(), but will set dict[key] = default if key is not already in dict\n",
        "dit.setdefault(\"DOB\",\"3-10-1994\")"
      ],
      "execution_count": null,
      "outputs": [
        {
          "output_type": "execute_result",
          "data": {
            "application/vnd.google.colaboratory.intrinsic+json": {
              "type": "string"
            },
            "text/plain": [
              "'3-10-1994'"
            ]
          },
          "metadata": {
            "tags": []
          },
          "execution_count": 50
        }
      ]
    },
    {
      "cell_type": "code",
      "metadata": {
        "id": "iocG-0tl7I6v",
        "colab_type": "code",
        "colab": {
          "base_uri": "https://localhost:8080/",
          "height": 34
        },
        "outputId": "d53e7eb5-aef7-40ec-fd0f-2c45d67df3ea"
      },
      "source": [
        "#values():Returns list of dictionary dict's values\n",
        "dit.values()"
      ],
      "execution_count": null,
      "outputs": [
        {
          "output_type": "execute_result",
          "data": {
            "text/plain": [
              "dict_values(['Anasuya', 26, 'Lecture', 'Cuttack', '3-10-1994'])"
            ]
          },
          "metadata": {
            "tags": []
          },
          "execution_count": 51
        }
      ]
    },
    {
      "cell_type": "code",
      "metadata": {
        "id": "5XYeljfJ8s3d",
        "colab_type": "code",
        "colab": {}
      },
      "source": [
        "#clear():Removes all elements of dictionary dict\n",
        "dit.clear()"
      ],
      "execution_count": null,
      "outputs": []
    },
    {
      "cell_type": "code",
      "metadata": {
        "id": "KJFbwfZ9-Aec",
        "colab_type": "code",
        "colab": {
          "base_uri": "https://localhost:8080/",
          "height": 34
        },
        "outputId": "6fe709a0-1474-436b-f510-c885a6d84a41"
      },
      "source": [
        "dit"
      ],
      "execution_count": null,
      "outputs": [
        {
          "output_type": "execute_result",
          "data": {
            "text/plain": [
              "{}"
            ]
          },
          "metadata": {
            "tags": []
          },
          "execution_count": 53
        }
      ]
    },
    {
      "cell_type": "markdown",
      "metadata": {
        "id": "APkp30Zq-EAd",
        "colab_type": "text"
      },
      "source": [
        "**SET**"
      ]
    },
    {
      "cell_type": "code",
      "metadata": {
        "id": "tHi6kx-b-wOd",
        "colab_type": "code",
        "colab": {
          "base_uri": "https://localhost:8080/",
          "height": 34
        },
        "outputId": "a0e33630-6980-4045-c5b2-3c4896b0e1ab"
      },
      "source": [
        "set1={\"apple\",\"banana\",\"Orange\",\"Mango\"}\n",
        "set1"
      ],
      "execution_count": null,
      "outputs": [
        {
          "output_type": "execute_result",
          "data": {
            "text/plain": [
              "{'Mango', 'Orange', 'apple', 'banana'}"
            ]
          },
          "metadata": {
            "tags": []
          },
          "execution_count": 54
        }
      ]
    },
    {
      "cell_type": "code",
      "metadata": {
        "id": "3nFHGoVx_vTb",
        "colab_type": "code",
        "colab": {
          "base_uri": "https://localhost:8080/",
          "height": 84
        },
        "outputId": "c56aacbd-987d-4310-f22f-0eeea09ab287"
      },
      "source": [
        "for i in set1:\n",
        "  print(i)"
      ],
      "execution_count": null,
      "outputs": [
        {
          "output_type": "stream",
          "text": [
            "apple\n",
            "Mango\n",
            "Orange\n",
            "banana\n"
          ],
          "name": "stdout"
        }
      ]
    },
    {
      "cell_type": "code",
      "metadata": {
        "id": "Ko15j43I_4tv",
        "colab_type": "code",
        "colab": {
          "base_uri": "https://localhost:8080/",
          "height": 34
        },
        "outputId": "09b16a57-f619-47ea-b804-63cb37ef5cae"
      },
      "source": [
        "#Once a set is created, you cannot change its items, but you can add new items.\n",
        "#add():To add one item to a set use the add() method.\n",
        "set1.add(\"strawberry\")\n",
        "set1"
      ],
      "execution_count": null,
      "outputs": [
        {
          "output_type": "execute_result",
          "data": {
            "text/plain": [
              "{'Mango', 'Orange', 'apple', 'banana', 'strawberry'}"
            ]
          },
          "metadata": {
            "tags": []
          },
          "execution_count": 56
        }
      ]
    },
    {
      "cell_type": "code",
      "metadata": {
        "id": "yCNdNkUQASQ2",
        "colab_type": "code",
        "colab": {
          "base_uri": "https://localhost:8080/",
          "height": 34
        },
        "outputId": "3d476d3b-b8e1-442c-8295-68d79270f574"
      },
      "source": [
        "#update():To add more than one item to a set use the update() method.\n",
        "set2={\"apple\",\"banana\",\"Orange\",\"Mango\"}\n",
        "set2.update([\"cherry\",\"blueberry\",\"plum\"])\n",
        "set2"
      ],
      "execution_count": 2,
      "outputs": [
        {
          "output_type": "execute_result",
          "data": {
            "text/plain": [
              "{'Mango', 'Orange', 'apple', 'banana', 'blueberry', 'cherry', 'plum'}"
            ]
          },
          "metadata": {
            "tags": []
          },
          "execution_count": 2
        }
      ]
    },
    {
      "cell_type": "code",
      "metadata": {
        "id": "4-DopsheBm85",
        "colab_type": "code",
        "colab": {
          "base_uri": "https://localhost:8080/",
          "height": 34
        },
        "outputId": "f4e2fe36-52e8-42d7-9047-b10943997dfd"
      },
      "source": [
        "#len():returns the length of the set.\n",
        "len(set2)"
      ],
      "execution_count": 3,
      "outputs": [
        {
          "output_type": "execute_result",
          "data": {
            "text/plain": [
              "7"
            ]
          },
          "metadata": {
            "tags": []
          },
          "execution_count": 3
        }
      ]
    },
    {
      "cell_type": "code",
      "metadata": {
        "id": "x4NL6jPfB6r1",
        "colab_type": "code",
        "colab": {
          "base_uri": "https://localhost:8080/",
          "height": 34
        },
        "outputId": "e38d7f8b-f614-4d15-bbf9-17e0a6d9a6e1"
      },
      "source": [
        "#remove():Removes an item from the set.\n",
        "set2.remove(\"plum\")\n",
        "set2"
      ],
      "execution_count": 4,
      "outputs": [
        {
          "output_type": "execute_result",
          "data": {
            "text/plain": [
              "{'Mango', 'Orange', 'apple', 'banana', 'blueberry', 'cherry'}"
            ]
          },
          "metadata": {
            "tags": []
          },
          "execution_count": 4
        }
      ]
    },
    {
      "cell_type": "code",
      "metadata": {
        "id": "YbG0TF92DCKi",
        "colab_type": "code",
        "colab": {
          "base_uri": "https://localhost:8080/",
          "height": 34
        },
        "outputId": "dfa6038f-16cf-41c5-be52-b05dbe4ccfa3"
      },
      "source": [
        "#discard():Removes an item from the set.\n",
        "set2.discard(\"apple\")\n",
        "set2"
      ],
      "execution_count": 5,
      "outputs": [
        {
          "output_type": "execute_result",
          "data": {
            "text/plain": [
              "{'Mango', 'Orange', 'banana', 'blueberry', 'cherry'}"
            ]
          },
          "metadata": {
            "tags": []
          },
          "execution_count": 5
        }
      ]
    },
    {
      "cell_type": "code",
      "metadata": {
        "id": "BnL5G3iRDNAr",
        "colab_type": "code",
        "colab": {
          "base_uri": "https://localhost:8080/",
          "height": 34
        },
        "outputId": "334411e1-605e-4a60-fb99-cc2560b1fa18"
      },
      "source": [
        "#pop():Remove the last item by using the pop() method\n",
        "set2.pop()\n",
        "set2"
      ],
      "execution_count": 6,
      "outputs": [
        {
          "output_type": "execute_result",
          "data": {
            "text/plain": [
              "{'Mango', 'Orange', 'banana', 'cherry'}"
            ]
          },
          "metadata": {
            "tags": []
          },
          "execution_count": 6
        }
      ]
    },
    {
      "cell_type": "code",
      "metadata": {
        "id": "mvjXhAjBxj90",
        "colab_type": "code",
        "colab": {
          "base_uri": "https://localhost:8080/",
          "height": 34
        },
        "outputId": "0cb91442-c050-4861-ef5a-62179c493cd2"
      },
      "source": [
        "#union():method returns a new set with all items from both sets\n",
        "s1={1,2,3}\n",
        "s2={\"a\",\"b\",\"c\"}\n",
        "s3=s1.union(s2)\n",
        "s3"
      ],
      "execution_count": 8,
      "outputs": [
        {
          "output_type": "execute_result",
          "data": {
            "text/plain": [
              "{1, 2, 3, 'a', 'b', 'c'}"
            ]
          },
          "metadata": {
            "tags": []
          },
          "execution_count": 8
        }
      ]
    },
    {
      "cell_type": "markdown",
      "metadata": {
        "id": "oKSFr7B_yzD5",
        "colab_type": "text"
      },
      "source": [
        "**TUPLE**"
      ]
    },
    {
      "cell_type": "code",
      "metadata": {
        "id": "DsCvoXjyzARs",
        "colab_type": "code",
        "colab": {
          "base_uri": "https://localhost:8080/",
          "height": 34
        },
        "outputId": "2e3d4f94-d568-4df2-9ce8-070dbfc304d4"
      },
      "source": [
        "tpl=(10,20,30,40,50)\n",
        "tpl"
      ],
      "execution_count": 9,
      "outputs": [
        {
          "output_type": "execute_result",
          "data": {
            "text/plain": [
              "(10, 20, 30, 40, 50)"
            ]
          },
          "metadata": {
            "tags": []
          },
          "execution_count": 9
        }
      ]
    },
    {
      "cell_type": "code",
      "metadata": {
        "id": "92Gpuz_IzgmQ",
        "colab_type": "code",
        "colab": {
          "base_uri": "https://localhost:8080/",
          "height": 34
        },
        "outputId": "71c45f61-7535-4945-d92a-f562ec092070"
      },
      "source": [
        "print(\"First element:\",tpl[0])"
      ],
      "execution_count": 10,
      "outputs": [
        {
          "output_type": "stream",
          "text": [
            "First element: 10\n"
          ],
          "name": "stdout"
        }
      ]
    },
    {
      "cell_type": "code",
      "metadata": {
        "id": "T6VyYK4Oztbq",
        "colab_type": "code",
        "colab": {
          "base_uri": "https://localhost:8080/",
          "height": 34
        },
        "outputId": "63691f6d-3851-4e62-b062-c8a8bcf44654"
      },
      "source": [
        "print(\"Element:\",tpl[1:4])"
      ],
      "execution_count": 11,
      "outputs": [
        {
          "output_type": "stream",
          "text": [
            "Element: (20, 30, 40)\n"
          ],
          "name": "stdout"
        }
      ]
    },
    {
      "cell_type": "code",
      "metadata": {
        "id": "vjG4j-020Dp3",
        "colab_type": "code",
        "colab": {
          "base_uri": "https://localhost:8080/",
          "height": 34
        },
        "outputId": "0e286312-7c61-4ac1-a908-4aff25963ea0"
      },
      "source": [
        "tpl1=(\"a\",\"b\",\"c\",\"d\")\n",
        "tpl1"
      ],
      "execution_count": 12,
      "outputs": [
        {
          "output_type": "execute_result",
          "data": {
            "text/plain": [
              "('a', 'b', 'c', 'd')"
            ]
          },
          "metadata": {
            "tags": []
          },
          "execution_count": 12
        }
      ]
    },
    {
      "cell_type": "code",
      "metadata": {
        "id": "occYDrxO3JrQ",
        "colab_type": "code",
        "colab": {
          "base_uri": "https://localhost:8080/",
          "height": 34
        },
        "outputId": "bf214c64-9b57-4722-9064-9c220ffaa7d5"
      },
      "source": [
        "#Concatenation of the tuple\n",
        "tpl2=tpl+tpl1\n",
        "tpl2"
      ],
      "execution_count": 13,
      "outputs": [
        {
          "output_type": "execute_result",
          "data": {
            "text/plain": [
              "(10, 20, 30, 40, 50, 'a', 'b', 'c', 'd')"
            ]
          },
          "metadata": {
            "tags": []
          },
          "execution_count": 13
        }
      ]
    },
    {
      "cell_type": "code",
      "metadata": {
        "id": "5HxbZoI-3l2q",
        "colab_type": "code",
        "colab": {
          "base_uri": "https://localhost:8080/",
          "height": 34
        },
        "outputId": "5e73bb5f-12a2-4867-8b5a-18b30da407d3"
      },
      "source": [
        "#Length of the tuple\n",
        "len(tpl2)"
      ],
      "execution_count": 14,
      "outputs": [
        {
          "output_type": "execute_result",
          "data": {
            "text/plain": [
              "9"
            ]
          },
          "metadata": {
            "tags": []
          },
          "execution_count": 14
        }
      ]
    },
    {
      "cell_type": "code",
      "metadata": {
        "id": "2bbJXtXZ6CpI",
        "colab_type": "code",
        "colab": {
          "base_uri": "https://localhost:8080/",
          "height": 34
        },
        "outputId": "0ac91d63-23ec-4d3f-83b6-8cc19a7f979b"
      },
      "source": [
        "#Repeatation of the Tuple\n",
        "tpl*2"
      ],
      "execution_count": 15,
      "outputs": [
        {
          "output_type": "execute_result",
          "data": {
            "text/plain": [
              "(10, 20, 30, 40, 50, 10, 20, 30, 40, 50)"
            ]
          },
          "metadata": {
            "tags": []
          },
          "execution_count": 15
        }
      ]
    },
    {
      "cell_type": "code",
      "metadata": {
        "id": "jawZdBZm6ZAn",
        "colab_type": "code",
        "colab": {
          "base_uri": "https://localhost:8080/",
          "height": 34
        },
        "outputId": "2038c617-771b-4a22-d1ce-754168658c73"
      },
      "source": [
        "#Membership of the tuple\n",
        "30 in tpl"
      ],
      "execution_count": 16,
      "outputs": [
        {
          "output_type": "execute_result",
          "data": {
            "text/plain": [
              "True"
            ]
          },
          "metadata": {
            "tags": []
          },
          "execution_count": 16
        }
      ]
    },
    {
      "cell_type": "code",
      "metadata": {
        "id": "M1T6OQXC6vhM",
        "colab_type": "code",
        "colab": {
          "base_uri": "https://localhost:8080/",
          "height": 101
        },
        "outputId": "732d0a04-3bdf-4f8d-840d-5b6c1d0623fb"
      },
      "source": [
        "#Iteration\n",
        "for x in tpl:\n",
        "  print(x)"
      ],
      "execution_count": 17,
      "outputs": [
        {
          "output_type": "stream",
          "text": [
            "10\n",
            "20\n",
            "30\n",
            "40\n",
            "50\n"
          ],
          "name": "stdout"
        }
      ]
    },
    {
      "cell_type": "code",
      "metadata": {
        "id": "iLBaZl2H7X1B",
        "colab_type": "code",
        "colab": {
          "base_uri": "https://localhost:8080/",
          "height": 34
        },
        "outputId": "2463e32d-cef8-43a4-adab-80e2ebb795bc"
      },
      "source": [
        "#len():Gives the total length of the tuple.\n",
        "len(tpl)"
      ],
      "execution_count": 19,
      "outputs": [
        {
          "output_type": "execute_result",
          "data": {
            "text/plain": [
              "5"
            ]
          },
          "metadata": {
            "tags": []
          },
          "execution_count": 19
        }
      ]
    },
    {
      "cell_type": "code",
      "metadata": {
        "id": "RZ8wvL_j8Pda",
        "colab_type": "code",
        "colab": {
          "base_uri": "https://localhost:8080/",
          "height": 34
        },
        "outputId": "fb8c69a2-9dfd-4991-cd62-5a3be8a23b07"
      },
      "source": [
        "#max():Returns item from the tuple with max value.\n",
        "max(tpl)"
      ],
      "execution_count": 20,
      "outputs": [
        {
          "output_type": "execute_result",
          "data": {
            "text/plain": [
              "50"
            ]
          },
          "metadata": {
            "tags": []
          },
          "execution_count": 20
        }
      ]
    },
    {
      "cell_type": "code",
      "metadata": {
        "id": "8ieVMVN88Y2s",
        "colab_type": "code",
        "colab": {
          "base_uri": "https://localhost:8080/",
          "height": 34
        },
        "outputId": "b6e3f4ca-fecf-45ee-8dc5-3bb8f42ea9b9"
      },
      "source": [
        "#min():Returns item from the tuple with min value.\n",
        "min(tpl)"
      ],
      "execution_count": 21,
      "outputs": [
        {
          "output_type": "execute_result",
          "data": {
            "text/plain": [
              "10"
            ]
          },
          "metadata": {
            "tags": []
          },
          "execution_count": 21
        }
      ]
    },
    {
      "cell_type": "markdown",
      "metadata": {
        "id": "mXy5uokI85i0",
        "colab_type": "text"
      },
      "source": [
        "**STRING**"
      ]
    },
    {
      "cell_type": "code",
      "metadata": {
        "id": "FIXi859289-g",
        "colab_type": "code",
        "colab": {
          "base_uri": "https://localhost:8080/",
          "height": 50
        },
        "outputId": "c65dcc60-02b0-4a1f-9341-678c386160c5"
      },
      "source": [
        "var1 = 'Hello World!'\n",
        "var2 = \"Python Programming\"\n",
        "\n",
        "print (\"var1[0]: \", var1[0])\n",
        "print (\"var2[1:5]: \", var2[1:5])"
      ],
      "execution_count": 22,
      "outputs": [
        {
          "output_type": "stream",
          "text": [
            "var1[0]:  H\n",
            "var2[1:5]:  ytho\n"
          ],
          "name": "stdout"
        }
      ]
    },
    {
      "cell_type": "code",
      "metadata": {
        "id": "U9NdIHLN9HrC",
        "colab_type": "code",
        "colab": {
          "base_uri": "https://localhost:8080/",
          "height": 35
        },
        "outputId": "45be44bb-b02d-45cf-dd6b-529337a553be"
      },
      "source": [
        "#Capitalizes first letter of string\n",
        "var1.capitalize()"
      ],
      "execution_count": 24,
      "outputs": [
        {
          "output_type": "execute_result",
          "data": {
            "application/vnd.google.colaboratory.intrinsic+json": {
              "type": "string"
            },
            "text/plain": [
              "'Hello world!'"
            ]
          },
          "metadata": {
            "tags": []
          },
          "execution_count": 24
        }
      ]
    },
    {
      "cell_type": "code",
      "metadata": {
        "id": "xmbTOKQ99tEC",
        "colab_type": "code",
        "colab": {
          "base_uri": "https://localhost:8080/",
          "height": 34
        },
        "outputId": "a75e95bb-d126-4c89-d773-36d4dac9a5ab"
      },
      "source": [
        "#Returns true if string contains only digits and false otherwise.\n",
        "var1.isdigit()"
      ],
      "execution_count": 25,
      "outputs": [
        {
          "output_type": "execute_result",
          "data": {
            "text/plain": [
              "False"
            ]
          },
          "metadata": {
            "tags": []
          },
          "execution_count": 25
        }
      ]
    },
    {
      "cell_type": "code",
      "metadata": {
        "id": "zHYUJYyg-CaV",
        "colab_type": "code",
        "colab": {
          "base_uri": "https://localhost:8080/",
          "height": 34
        },
        "outputId": "7b9dec66-16d8-4259-d86e-74b42e3c7ed0"
      },
      "source": [
        "#Returns the length of the string\n",
        "len(var1)"
      ],
      "execution_count": 27,
      "outputs": [
        {
          "output_type": "execute_result",
          "data": {
            "text/plain": [
              "12"
            ]
          },
          "metadata": {
            "tags": []
          },
          "execution_count": 27
        }
      ]
    },
    {
      "cell_type": "code",
      "metadata": {
        "id": "lmBpVvogBJdA",
        "colab_type": "code",
        "colab": {
          "base_uri": "https://localhost:8080/",
          "height": 35
        },
        "outputId": "d559fbd3-1b6a-45ae-f9b7-17f9f6638018"
      },
      "source": [
        "#Converts all uppercase letters in string to lowercase.\n",
        "var1.lower()"
      ],
      "execution_count": 29,
      "outputs": [
        {
          "output_type": "execute_result",
          "data": {
            "application/vnd.google.colaboratory.intrinsic+json": {
              "type": "string"
            },
            "text/plain": [
              "'hello world!'"
            ]
          },
          "metadata": {
            "tags": []
          },
          "execution_count": 29
        }
      ]
    },
    {
      "cell_type": "code",
      "metadata": {
        "id": "HosiX7GqBVYP",
        "colab_type": "code",
        "colab": {
          "base_uri": "https://localhost:8080/",
          "height": 35
        },
        "outputId": "951b1471-42bb-4a7f-985d-3309165965d3"
      },
      "source": [
        "#Returns the max alphabetical character from the string str.\n",
        "max(var1)"
      ],
      "execution_count": 31,
      "outputs": [
        {
          "output_type": "execute_result",
          "data": {
            "application/vnd.google.colaboratory.intrinsic+json": {
              "type": "string"
            },
            "text/plain": [
              "'r'"
            ]
          },
          "metadata": {
            "tags": []
          },
          "execution_count": 31
        }
      ]
    },
    {
      "cell_type": "code",
      "metadata": {
        "id": "OeWXVUN0BocH",
        "colab_type": "code",
        "colab": {}
      },
      "source": [
        ""
      ],
      "execution_count": null,
      "outputs": []
    }
  ]
}