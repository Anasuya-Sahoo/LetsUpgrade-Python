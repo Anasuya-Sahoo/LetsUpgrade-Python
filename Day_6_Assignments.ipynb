{
  "nbformat": 4,
  "nbformat_minor": 0,
  "metadata": {
    "colab": {
      "name": "Day-6 Assignments",
      "provenance": [],
      "authorship_tag": "ABX9TyOZOXQLj+HSoSLDp85VHPW+",
      "include_colab_link": true
    },
    "kernelspec": {
      "name": "python3",
      "display_name": "Python 3"
    }
  },
  "cells": [
    {
      "cell_type": "markdown",
      "metadata": {
        "id": "view-in-github",
        "colab_type": "text"
      },
      "source": [
        "<a href=\"https://colab.research.google.com/github/Anasuya-Sahoo/LetsUpgrade-Python/blob/master/Day_6_Assignments.ipynb\" target=\"_parent\"><img src=\"https://colab.research.google.com/assets/colab-badge.svg\" alt=\"Open In Colab\"/></a>"
      ]
    },
    {
      "cell_type": "markdown",
      "metadata": {
        "id": "ji8UwxOftcQQ",
        "colab_type": "text"
      },
      "source": [
        "**Assignment-1**"
      ]
    },
    {
      "cell_type": "code",
      "metadata": {
        "id": "2TMGFkFltY5Q",
        "colab_type": "code",
        "colab": {
          "base_uri": "https://localhost:8080/",
          "height": 622
        },
        "outputId": "11b2ecd7-28aa-48fc-d945-7ae92cb9f207"
      },
      "source": [
        "class BankAccount:\n",
        "  def __init__(self,ownername,balance):\n",
        "    self.ownername=ownername\n",
        "    self.balance=balance\n",
        "  \n",
        "  def deposit(self,amount):\n",
        "    self.balance+=amount\n",
        "    print(\"_______________RECEIPT___________________\")\n",
        "    print(\"Account holder name:{}\".format(self.ownername))\n",
        "    print(\"Currenrt balance:\",self.balance)\n",
        "    print(\"Deposited amount:{}\".format(amount))\n",
        "    print(\"The new updated balance:{}\".format(self.balance))\n",
        "\n",
        "  def withdraw(self,amt):\n",
        "    if amt>self.balance:\n",
        "      print(\"Withdrawal denied\")\n",
        "    else:\n",
        "      self.balance-=amt\n",
        "      print(\"_______________RECEIPT___________________\")\n",
        "      print(\"Account holder name:{}\".format(self.ownername))\n",
        "      print(\"Currenrt balance:\",self.balance)\n",
        "      print(\"Withdrawal amount:{}\".format(amt))\n",
        "      print(\"The new updated balance:{}\".format(self.balance))\n",
        "\n",
        "\n",
        "obj=BankAccount(\"Rajesh Gupta\",12000)\n",
        "print(obj.deposit(10000))\n",
        "print(obj.deposit(33000))\n",
        "print(obj.deposit(12000))\n",
        "print(obj.withdraw(10000))\n",
        "print(obj.deposit(7000))\n",
        "print(obj.withdraw(20000))\n",
        "\n",
        "\n",
        "\n",
        "\n",
        "\n"
      ],
      "execution_count": 9,
      "outputs": [
        {
          "output_type": "stream",
          "text": [
            "_______________RECEIPT___________________\n",
            "Account holder name:Rajesh Gupta\n",
            "Currenrt balance: 22000\n",
            "Deposited amount:10000\n",
            "The new updated balance:22000\n",
            "None\n",
            "_______________RECEIPT___________________\n",
            "Account holder name:Rajesh Gupta\n",
            "Currenrt balance: 55000\n",
            "Deposited amount:33000\n",
            "The new updated balance:55000\n",
            "None\n",
            "_______________RECEIPT___________________\n",
            "Account holder name:Rajesh Gupta\n",
            "Currenrt balance: 67000\n",
            "Deposited amount:12000\n",
            "The new updated balance:67000\n",
            "None\n",
            "_______________RECEIPT___________________\n",
            "Account holder name:Rajesh Gupta\n",
            "Currenrt balance: 57000\n",
            "Withdrawal amount:10000\n",
            "The new updated balance:57000\n",
            "None\n",
            "_______________RECEIPT___________________\n",
            "Account holder name:Rajesh Gupta\n",
            "Currenrt balance: 64000\n",
            "Deposited amount:7000\n",
            "The new updated balance:64000\n",
            "None\n",
            "_______________RECEIPT___________________\n",
            "Account holder name:Rajesh Gupta\n",
            "Currenrt balance: 44000\n",
            "Withdrawal amount:20000\n",
            "The new updated balance:44000\n",
            "None\n"
          ],
          "name": "stdout"
        }
      ]
    },
    {
      "cell_type": "markdown",
      "metadata": {
        "id": "L1sn_077HT-W",
        "colab_type": "text"
      },
      "source": [
        "**Assignment-2**"
      ]
    },
    {
      "cell_type": "code",
      "metadata": {
        "id": "GeyuZ5WIHXQg",
        "colab_type": "code",
        "colab": {
          "base_uri": "https://localhost:8080/",
          "height": 67
        },
        "outputId": "b82d29f6-b948-4a6d-d944-3de6b1ed5d6f"
      },
      "source": [
        "import math\n",
        "class Cone:\n",
        "  def __init__(self,radius,height):\n",
        "    self.radius=radius\n",
        "    self.height=height\n",
        "  \n",
        "  def volume(self):\n",
        "    result=math.pi*self.radius**2*(self.height/4)\n",
        "    return result\n",
        "  def surfacearea(self):\n",
        "    res1=math.pi*self.radius**2\n",
        "    print(\"Surface Area of the cone:\",res1)\n",
        "    side=math.pi*self.radius*math.sqrt(self.radius**2+self.height**2)\n",
        "    print(\"Sides of the cone:\",side)\n",
        "\n",
        "c1=Cone(5,12)\n",
        "print(\"Volume of the cone:\",c1.volume())\n",
        "c1.surfacearea()"
      ],
      "execution_count": 15,
      "outputs": [
        {
          "output_type": "stream",
          "text": [
            "Volume of the cone: 235.61944901923448\n",
            "Surface Area of the cone: 78.53981633974483\n",
            "Sides of the cone: 204.20352248333654\n"
          ],
          "name": "stdout"
        }
      ]
    }
  ]
}